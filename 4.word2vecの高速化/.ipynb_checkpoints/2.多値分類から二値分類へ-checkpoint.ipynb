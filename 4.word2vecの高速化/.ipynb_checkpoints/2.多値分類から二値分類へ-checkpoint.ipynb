{
 "cells": [
  {
   "cell_type": "markdown",
   "metadata": {},
   "source": [
    "## 二値分類での近似\n",
    "入力層から中間層への積の計算はEmbeddingレイヤを導入することにより単純に行列から行を抜き出すだけの軽量な処理となった。\n",
    "\n",
    "次は中間層以降の問題、すなわち中間層のニューロンと重み行列の積とsoftmaxレイヤの計算に対応していく。\n",
    "\n",
    "まず、最初の問題だが、これまでは出力層は全ての単語について確率を計算するため、中間層のニューロンに巨大な行列をかけていた。今回は全ての単語ではなく、ターゲットの単語に対応する行列の列ベクトルのみをかけて、確率を計算する。すなわち多値分類だったのを二値分類問題で近似する。\n",
    "\n",
    "多値分類のときはsoftmax関数で確率に変換したが、二値分類のときはsigmoid関数を用いる\n",
    "\n",
    "$$\n",
    "y = \\frac{1}{1 + \\exp(-x)}\n",
    "$$\n",
    "\n",
    "誤差関数については多値も二値も交差エントロピー誤差を用いる。\n",
    "\n",
    "$$\n",
    "L = -(t\\log y + (1-t)\\log(1-y))\n",
    "$$\n",
    "\n",
    "行列から列を抜き出す操作はEmbeddingレイヤで実装した。抜き出す以外に列と中間層からの出力の内積を取る処理が必要だ。なのでこれも併せてEmbeddingDotレイヤを実装する"
   ]
  },
  {
   "cell_type": "code",
   "execution_count": 1,
   "metadata": {
    "collapsed": true
   },
   "outputs": [],
   "source": [
    "import sys\n",
    "sys.path.append(\"../../deep-learning-from-scratch-2\")\n",
    "import numpy as np\n",
    "\n",
    "class EmbeddingDot:\n",
    "    def __init__(self, W):\n",
    "        self.embed = Embedding(W)\n",
    "        self.params = self.embed.params\n",
    "        self.grads = self.embed.grads\n",
    "        self.cache = None\n",
    "        \n",
    "    def forward(self, h, idx):\n",
    "        target_W = self.embed.forward(idx)\n",
    "        out = np.sum(target_W * h, axis=1)\n",
    "        self.cache = (h, target_W)\n",
    "        return out\n",
    "    \n",
    "    def backward(f, dout):\n",
    "        h, target_W = self.cache\n",
    "        dout = dout.reshape(dout.shape[0], 1)\n",
    "        dtarget_W = dout * h\n",
    "        self.embed.backward(dtarget_W)\n",
    "        dh = dout * target_W\n",
    "        return dh"
   ]
  },
  {
   "cell_type": "markdown",
   "metadata": {},
   "source": [
    "## Negative Sampling\n",
    "二値分類で正解ラベルになる確率を損失としたが、これでは不正解になるパターンを学習できない。すなわち、不正解ラベルに対しては確率を０に近づけるように学習していく必要がある。しかし、全ての不正解パターンについて計算すると二値にした意味が無いので不正解ラベル全体からいくつかサンプリングして学習を行う。\n",
    "\n",
    "では、サンプリングをランダムに行ってもいいかと言うと、実はそれよりも良い方法が知られている。それは出現回数のによる確率分布に従う確率でサンプリングすること。すなわち、よく出現する単語はサンプリングされやすく、レアは単語はあまりサンプリングされないようにする。\n",
    "\n",
    "ある確率分布に従うようにサンプリングするには、numpyのchoiceメソッドを使う"
   ]
  },
  {
   "cell_type": "code",
   "execution_count": 1,
   "metadata": {},
   "outputs": [
    {
     "data": {
      "text/plain": [
       "3"
      ]
     },
     "execution_count": 1,
     "metadata": {},
     "output_type": "execute_result"
    }
   ],
   "source": [
    "import numpy as np\n",
    "# 0-9のランダムな整数\n",
    "np.random.choice(10)"
   ]
  },
  {
   "cell_type": "code",
   "execution_count": 2,
   "metadata": {},
   "outputs": [
    {
     "data": {
      "text/plain": [
       "'cola'"
      ]
     },
     "execution_count": 2,
     "metadata": {},
     "output_type": "execute_result"
    }
   ],
   "source": [
    "# リストからランダムに選択\n",
    "words = [\"apple\", \"banana\", \"pen\", \"cola\"]\n",
    "np.random.choice(words)"
   ]
  },
  {
   "cell_type": "code",
   "execution_count": 3,
   "metadata": {},
   "outputs": [
    {
     "data": {
      "text/plain": [
       "'apple'"
      ]
     },
     "execution_count": 3,
     "metadata": {},
     "output_type": "execute_result"
    }
   ],
   "source": [
    "# 確率分布に従ってサンプリング\n",
    "p = [0.5, 0.25, 0.2, 0.05]\n",
    "np.random.choice(words, p=p)"
   ]
  },
  {
   "cell_type": "code",
   "execution_count": 4,
   "metadata": {},
   "outputs": [
    {
     "data": {
      "text/plain": [
       "'cola'"
      ]
     },
     "execution_count": 4,
     "metadata": {},
     "output_type": "execute_result"
    }
   ],
   "source": [
    "np.random.choice(words, p=p)"
   ]
  },
  {
   "cell_type": "code",
   "execution_count": 5,
   "metadata": {},
   "outputs": [
    {
     "data": {
      "text/plain": [
       "'apple'"
      ]
     },
     "execution_count": 5,
     "metadata": {},
     "output_type": "execute_result"
    }
   ],
   "source": [
    "np.random.choice(words, p=p)"
   ]
  },
  {
   "cell_type": "code",
   "execution_count": 6,
   "metadata": {},
   "outputs": [
    {
     "data": {
      "text/plain": [
       "'apple'"
      ]
     },
     "execution_count": 6,
     "metadata": {},
     "output_type": "execute_result"
    }
   ],
   "source": [
    "np.random.choice(words, p=p)"
   ]
  },
  {
   "cell_type": "code",
   "execution_count": 7,
   "metadata": {},
   "outputs": [
    {
     "data": {
      "text/plain": [
       "'banana'"
      ]
     },
     "execution_count": 7,
     "metadata": {},
     "output_type": "execute_result"
    }
   ],
   "source": [
    "np.random.choice(words, p=p)"
   ]
  },
  {
   "cell_type": "markdown",
   "metadata": {},
   "source": [
    "実際word2vecで使用されているサンプリング手法では、もうひと手間加えられている\n",
    "$$\n",
    "P'(w_i) = \\frac{P(w_i)^{0.75}}{\\sum^n_j(P(w_i)^{0.75})}\n",
    "$$\n",
    "このようにすることで、分布全体を「緩めて」、確率の低い単語に対して確率を少しだけ高める。\n",
    "\n",
    "これらの処理を含めてNegativeSamplingを行うクラスをUnigramSamplerクラスとしてch04/negative_sampling_layer.pyに実装してある。"
   ]
  },
  {
   "cell_type": "code",
   "execution_count": 8,
   "metadata": {
    "collapsed": true
   },
   "outputs": [],
   "source": [
    "import sys\n",
    "sys.path.append(\"../../deep-learning-from-scratch-2\")\n",
    "from common.layers import SigmoidWithLoss\n",
    "from ch04.negative_sampling_layer import UnigramSampler\n",
    "\n",
    "class NegativeSamplingLoss:\n",
    "    def __init__(self, W, corpus, power=0.75, sample_size = 5):\n",
    "        self.sample_size=sample_size\n",
    "        self.sampler = UnigramSampler(corpus, power, sample_size)\n",
    "        self.loss_layers = [SigmoidWithLoss() for _ in range(sample_size + 1)]\n",
    "        self.embed_dot_layers = [EmbeddingDot(W) for _ in range(sample_size + 1)]\n",
    "        self.params, self.grads = [], []\n",
    "        \n",
    "        for layer in self.embed_dot_layers:\n",
    "            self.params += layer.params\n",
    "            self.grads += layer.grads\n",
    "        \n",
    "    def forward(self, h, target):\n",
    "        batch_size = target.shape[0]\n",
    "        negative_sample = self.sampler.get_negative_sample(target)\n",
    "        \n",
    "        score = self.embed_dot_layers[0].forward(h, target)\n",
    "        correct_label = np.ones(batch_size, dtype=np.int32)\n",
    "        loss = self.loss_layers[0].forward(score, correct_label)\n",
    "    \n",
    "        negative_label = np.zeros(batch_size, dtype=np.int32)\n",
    "        for i in range(self.sample_size):\n",
    "            negative_target = negative_sample[:, i]\n",
    "            score = self.embed_dot_layers[1 + i].forward(h, negative_target)\n",
    "            loss += self.loss_layers[1 + i].forward(score, negative_label)\n",
    "        \n",
    "        return loss\n",
    "    \n",
    "    def backward(self, dout=1):\n",
    "        dh = 0\n",
    "        for l0, l1 in zip(self.loss_layers, self.embed_dot_layers):\n",
    "            dscore = l0.backward(dout)\n",
    "            dh += l1.backward(dscore)\n",
    "        \n",
    "        return dh"
   ]
  },
  {
   "cell_type": "code",
   "execution_count": null,
   "metadata": {
    "collapsed": true
   },
   "outputs": [],
   "source": []
  }
 ],
 "metadata": {
  "kernelspec": {
   "display_name": "Python 3",
   "language": "python",
   "name": "python3"
  },
  "language_info": {
   "codemirror_mode": {
    "name": "ipython",
    "version": 3
   },
   "file_extension": ".py",
   "mimetype": "text/x-python",
   "name": "python",
   "nbconvert_exporter": "python",
   "pygments_lexer": "ipython3",
   "version": "3.6.1"
  }
 },
 "nbformat": 4,
 "nbformat_minor": 2
}
