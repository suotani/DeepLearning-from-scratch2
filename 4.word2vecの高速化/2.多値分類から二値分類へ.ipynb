{
 "cells": [
  {
   "cell_type": "markdown",
   "metadata": {},
   "source": [
    "## 二値分類での近似\n",
    "入力層から中間層への積の計算はEmbeddingレイヤを導入することにより単純に行列から行を抜き出すだけの軽量な処理となった。\n",
    "\n",
    "次は中間層以降の問題、すなわち中間層のニューロンと重み行列の積とsoftmaxレイヤの計算に対応していく。\n",
    "\n",
    "まず、最初の問題だが、これまでは出力層は全ての単語について確率を計算するため、中間層のニューロンに巨大な行列をかけていた。今回は全ての単語ではなく、ターゲットの単語に対応する行列の列ベクトルのみをかけて、確率を計算する。すなわち多値分類だったのを二値分類問題で近似する。\n",
    "\n",
    "多値分類のときはsoftmax関数で確率に変換したが、二値分類のときはsigmoid関数を用いる\n",
    "\n",
    "$$\n",
    "y = \\frac{1}{1 + \\exp(-x)}\n",
    "$$\n",
    "\n",
    "誤差関数については多値も二値も交差エントロピー誤差を用いる。\n",
    "\n",
    "$$\n",
    "L = -(t\\log y + (1-t)\\log(1-y))\n",
    "$$\n",
    "\n",
    "行列から列を抜き出す操作はEmbeddingレイヤで実装した。抜き出す以外に列と中間層からの出力の内積を取る処理が必要だ。なのでこれも併せてEmbeddingDotレイヤを実装する"
   ]
  },
  {
   "cell_type": "code",
   "execution_count": 1,
   "metadata": {
    "collapsed": true
   },
   "outputs": [],
   "source": [
    "import sys\n",
    "sys.path.append(\"../../deep-learning-from-scratch-2\")\n",
    "import numpy as np\n",
    "\n",
    "class EmbeddingDot:\n",
    "    def __init__(self, W):\n",
    "        self.embed = Embedding(W)\n",
    "        self.params = self.embed.params\n",
    "        self.grads = self.embed.grads\n",
    "        self.cache = None\n",
    "        \n",
    "    def forward(self, h, idx):\n",
    "        target_W = self.embed.forward(idx)\n",
    "        out = np.sum(target_W * h, axis=1)\n",
    "        self.cache = (h, target_W)\n",
    "        return out\n",
    "    \n",
    "    def backward(f, dout):\n",
    "        h, target_W = self.cache\n",
    "        dout = dout.reshape(dout.shape[0], 1)\n",
    "        dtarget_W = dout * h\n",
    "        self.embed.backward(dtarget_W)\n",
    "        dh = dout * target_W\n",
    "        return dh"
   ]
  },
  {
   "cell_type": "markdown",
   "metadata": {},
   "source": [
    "## Negative Sampling\n"
   ]
  }
 ],
 "metadata": {
  "kernelspec": {
   "display_name": "Python 3",
   "language": "python",
   "name": "python3"
  },
  "language_info": {
   "codemirror_mode": {
    "name": "ipython",
    "version": 3
   },
   "file_extension": ".py",
   "mimetype": "text/x-python",
   "name": "python",
   "nbconvert_exporter": "python",
   "pygments_lexer": "ipython3",
   "version": "3.6.1"
  }
 },
 "nbformat": 4,
 "nbformat_minor": 2
}
