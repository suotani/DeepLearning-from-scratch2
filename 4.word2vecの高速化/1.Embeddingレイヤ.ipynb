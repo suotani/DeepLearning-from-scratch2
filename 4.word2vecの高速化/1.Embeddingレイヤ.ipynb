{
 "cells": [
  {
   "cell_type": "markdown",
   "metadata": {},
   "source": [
    "## Embeddingレイヤ\n",
    "３章で作成したシンプルなCBOWでは大きなコーパスに対してとても時間がかかる。ボトルネックとなっているのは、入力層と中間層の間のベクトルと行列の積、中間層と出力層の積および損失の計算の２か所が挙げられる。\n",
    "\n",
    "まずは入力層と中間層の積をどうにかしてみる。\n",
    "\n",
    "この積をよく見てみると、one-hotベクトルと行列の積になっている。本質的にはこの計算は行列の行を抜き出しているに過ぎない。\n",
    "\n",
    "そこで、積の計算レイヤを丸ごと抜き出しレイヤ(Embeddingレイヤ）に変えてみる。\n",
    "\n",
    "Embeddingレイヤの順伝搬は単に行の抜出。逆伝搬は伝搬してきたものをそのまま元あった行を更新する。"
   ]
  },
  {
   "cell_type": "code",
   "execution_count": 2,
   "metadata": {
    "collapsed": true
   },
   "outputs": [],
   "source": [
    "import numpy as np\n",
    "class Embedding:\n",
    "    def __init__(self, W):\n",
    "        self.params = W\n",
    "        self.grads = [np.zoros_like(W)]\n",
    "        self.idx = None\n",
    "    \n",
    "    def forward(self, idx):\n",
    "        W, = self.params\n",
    "        self.idx = idx\n",
    "        out = W[idx]\n",
    "        return out\n",
    "    \n",
    "    def backward(self, dout):\n",
    "        dW, = self.grads\n",
    "        dW[...] = 0\n",
    "#         for i, word_id in enumerate(self.idx):\n",
    "#             dW[word_id] += dout[i]\n",
    "        np.add.at(dW, self.idx, dout)\n",
    "        return None"
   ]
  },
  {
   "cell_type": "code",
   "execution_count": null,
   "metadata": {
    "collapsed": true
   },
   "outputs": [],
   "source": []
  }
 ],
 "metadata": {
  "kernelspec": {
   "display_name": "Python 3",
   "language": "python",
   "name": "python3"
  },
  "language_info": {
   "codemirror_mode": {
    "name": "ipython",
    "version": 3
   },
   "file_extension": ".py",
   "mimetype": "text/x-python",
   "name": "python",
   "nbconvert_exporter": "python",
   "pygments_lexer": "ipython3",
   "version": "3.6.1"
  }
 },
 "nbformat": 4,
 "nbformat_minor": 2
}
