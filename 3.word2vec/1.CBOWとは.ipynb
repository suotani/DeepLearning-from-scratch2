{
 "cells": [
  {
   "cell_type": "markdown",
   "metadata": {},
   "source": [
    "## カウントベース手法の問題点\n",
    "\n",
    "カウントベース手法では、共起行列->ppmi->SVDという処理を経てテキストデータ全体の統計データを一度に処理していた。そのため大きなデータでは途方もない時間がかかる。特にSVDのオーダーは$O(n^3)$となるので、特に時間がかかる\n",
    "\n",
    "そこで、ニューラルネットワークのミニバッチ法を使って少しずつ学習していく方法（推論ベース手法）を見ていく\n",
    "\n",
    "## 推論ベース手法\n",
    "推論ベースの手法では、コンテキスト(周囲の単語)が与えられたとき、自分自身をコンテキストから推論する。\n",
    "\n",
    "「you ? goodbye and i say hello」?を周囲から推測する\n",
    "\n",
    "推論ベースもカウントベースと同じく、分布仮説に基づいている\n",
    "\n",
    "推論ベースで単語を扱う場合、固定長ベクトルに変換する必要がある。そこで、単語一つ一つをone-hot表現へ変換する\n",
    "\n",
    "say->$(1,0,0,0,0,0,0)$\n",
    "\n",
    "you->$(0,0,1,0,0,0,0)$\n",
    "\n",
    "ベクトル長を固定することで、ニューロンの数も固定することができる。\n",
    "\n",
    "ここでは、単語数７の文をコーパスとして実装してみる"
   ]
  },
  {
   "cell_type": "code",
   "execution_count": 1,
   "metadata": {
    "collapsed": true
   },
   "outputs": [],
   "source": [
    "import numpy as np\n",
    "import sys\n",
    "sys.path.append(\"../../deep-learning-from-scratch-2\")\n",
    "from common.layers import MatMul"
   ]
  },
  {
   "cell_type": "code",
   "execution_count": 4,
   "metadata": {},
   "outputs": [
    {
     "data": {
      "text/plain": [
       "array([[-0.2117446 , -1.32101092,  0.98811033]])"
      ]
     },
     "execution_count": 4,
     "metadata": {},
     "output_type": "execute_result"
    }
   ],
   "source": [
    "c = np.array([[1,0,0,0,0,0,0]]) # 単語IDが０の単語\n",
    "W = np.random.randn(7, 3)\n",
    "# h = np.dot(c, W)\n",
    "layer = MatMul(W)\n",
    "h = layer.forward(c)\n",
    "h"
   ]
  },
  {
   "cell_type": "markdown",
   "metadata": {},
   "source": [
    "## CBOWモデル\n",
    "ではここから、ニューラルネットワークを構築していく。\n",
    "\n",
    "モデルとしては、word2vecで提案されている　continuous bag-of-words(CBOW)というモデルを使う。\n",
    "\n",
    "CBOWとは、コンテキスト(周辺単語のリスト）を入力、ただしone-hot表現の。\n",
    "\n",
    "CBOWの入力層は２つあり、中間層を経由して出力層のニューロンへ向かう。周辺単語を今は２としているため、入力層は２つだが、周辺４単語であれば４つの入力層がある。\n",
    "\n",
    "学習を進めると、入力層から中間層への重みが更新されていくが、この重み行列が単語の分散表現そのものになる。行列の各行は対応する単語の意味をうまくエンコードしたものとみなすことも出来る。\n",
    "\n",
    "入力層７に対して、中間層は３にする。そうすることで、コンパクトにデータを圧縮することになり、つまり密なベクトルへの変換していることになる。"
   ]
  },
  {
   "cell_type": "code",
   "execution_count": 7,
   "metadata": {},
   "outputs": [
    {
     "data": {
      "text/plain": [
       "array([[ 0.74944059,  0.08903261, -0.53344934, -0.03440409,  0.52755354,\n",
       "        -0.08417425, -0.5304984 ]])"
      ]
     },
     "execution_count": 7,
     "metadata": {},
     "output_type": "execute_result"
    }
   ],
   "source": [
    "# 推論処理\n",
    "import sys\n",
    "sys.path.append(\"../../deep-learning-from-scratch-2\")\n",
    "import numpy as np\n",
    "from common.layers import MatMul\n",
    "\n",
    "c0 = np.array([[1,0,0,0,0,0,0]])\n",
    "c1 = np.array([[0,0,1,0,0,0,0]])\n",
    "\n",
    "W_in = np.random.randn(7, 3)\n",
    "W_out = np.random.randn(3, 7)\n",
    "\n",
    "in_layer0 = MatMul(W_in)\n",
    "in_layer1 = MatMul(W_in)\n",
    "out_layer = MatMul(W_out)\n",
    "\n",
    "h0 = in_layer0.forward(c0)\n",
    "h1 = in_layer1.forward(c1)\n",
    "h = 0.5 * (h0 + h1)\n",
    "s = out_layer.forward(h)\n",
    "s"
   ]
  },
  {
   "cell_type": "code",
   "execution_count": 8,
   "metadata": {
    "collapsed": true
   },
   "outputs": [],
   "source": [
    "# 順伝搬を実装。前処理\n",
    "import sys\n",
    "sys.path.append(\"../../deep-learning-from-scratch-2\")\n",
    "import numpy as np\n",
    "from common.util import preprocess\n",
    "\n",
    "text = \"you say goodbye and i say hello.\"\n",
    "corpus, word_to_id, id_to_word = preprocess(text)"
   ]
  },
  {
   "cell_type": "code",
   "execution_count": 16,
   "metadata": {
    "collapsed": true
   },
   "outputs": [],
   "source": [
    "# コーパスからコンテキストとターゲットのリストを作るメソッドを実装\n",
    "def create_contexts_target(corpus, window_size=1):\n",
    "    target = corpus[window_size:-window_size]# 1番目から最後の一つ手前まで\n",
    "    contexts = []\n",
    "    \n",
    "    for idx in range(window_size, len(corpus)-window_size):\n",
    "        cs = []\n",
    "        for t in range(-window_size, window_size + 1):\n",
    "            if t == 0:\n",
    "                continue\n",
    "            cs.append(corpus[idx + t])\n",
    "        contexts.append(cs)\n",
    "    return np.array(contexts), np.array(target)"
   ]
  },
  {
   "cell_type": "code",
   "execution_count": 17,
   "metadata": {
    "collapsed": true
   },
   "outputs": [],
   "source": [
    "contexts, target = create_contexts_target(corpus, window_size=1)"
   ]
  },
  {
   "cell_type": "code",
   "execution_count": 18,
   "metadata": {},
   "outputs": [
    {
     "data": {
      "text/plain": [
       "array([[0, 2],\n",
       "       [1, 3],\n",
       "       [2, 4],\n",
       "       [3, 1],\n",
       "       [4, 5],\n",
       "       [1, 6]])"
      ]
     },
     "execution_count": 18,
     "metadata": {},
     "output_type": "execute_result"
    }
   ],
   "source": [
    "contexts"
   ]
  },
  {
   "cell_type": "code",
   "execution_count": 19,
   "metadata": {},
   "outputs": [
    {
     "data": {
      "text/plain": [
       "array([1, 2, 3, 4, 1, 5])"
      ]
     },
     "execution_count": 19,
     "metadata": {},
     "output_type": "execute_result"
    }
   ],
   "source": [
    "target"
   ]
  },
  {
   "cell_type": "code",
   "execution_count": 20,
   "metadata": {
    "collapsed": true
   },
   "outputs": [],
   "source": [
    "# one-hotベクトルへ変換\n",
    "from common.util import convert_one_hot\n",
    "\n",
    "vocab_size = len(word_to_id)\n",
    "target = convert_one_hot(target, vocab_size)\n",
    "contexts = convert_one_hot(contexts, vocab_size)"
   ]
  }
 ],
 "metadata": {
  "kernelspec": {
   "display_name": "Python 3",
   "language": "python",
   "name": "python3"
  },
  "language_info": {
   "codemirror_mode": {
    "name": "ipython",
    "version": 3
   },
   "file_extension": ".py",
   "mimetype": "text/x-python",
   "name": "python",
   "nbconvert_exporter": "python",
   "pygments_lexer": "ipython3",
   "version": "3.6.1"
  }
 },
 "nbformat": 4,
 "nbformat_minor": 2
}
