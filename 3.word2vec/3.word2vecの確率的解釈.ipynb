{
 "cells": [
  {
   "cell_type": "markdown",
   "metadata": {},
   "source": [
    "## CBOWに対する確率的考察\n",
    "CBOWでは、あるターゲット$w_t$を条件となるコンテキスト$w_{t-1}, w_{t+1}$から出力される「確率」を高めていくと解釈することができる。コンテキストが与えられた状態でターゲットが出力される確率は$P(w_t|w_{t-1}, w_{t+1})$である。\n",
    "\n",
    "また、コンテキストとターゲットをCBOWに渡すと、出力層から出た値はソフトマックス関数によって確率$y_k$つまり$P(w_t|w_{t-1}, w_{t+1})$に変換される。この時の損失関数は\n",
    "\n",
    "$$\n",
    "L=-\\sum_{k}t_k\\log y_k\n",
    "$$\n",
    "\n",
    "である。ターゲットはone-hotベクトルであるから、結局\n",
    "\n",
    "$$\n",
    "L = -\\log P(w_t|w_{t-1}, w_{t+1})\n",
    "$$\n",
    "となる。この式で表される値を負の対数尤度という。\n",
    "\n",
    "コーパス全体に拡張して考えると\n",
    "\n",
    "$$\n",
    "L = -\\frac{1}{T}\\sum^{T}_{t=1}\\log P(w_t|w_{t-1}, w_{t+1})\n",
    "$$\n",
    "\n",
    "となる。CBOWはこの損失関数をできる限り小さくすることを目指す。"
   ]
  },
  {
   "cell_type": "markdown",
   "metadata": {},
   "source": []
  }
 ],
 "metadata": {
  "kernelspec": {
   "display_name": "Python 3",
   "language": "python",
   "name": "python3"
  },
  "language_info": {
   "codemirror_mode": {
    "name": "ipython",
    "version": 3
   },
   "file_extension": ".py",
   "mimetype": "text/x-python",
   "name": "python",
   "nbconvert_exporter": "python",
   "pygments_lexer": "ipython3",
   "version": "3.6.1"
  }
 },
 "nbformat": 4,
 "nbformat_minor": 2
}
