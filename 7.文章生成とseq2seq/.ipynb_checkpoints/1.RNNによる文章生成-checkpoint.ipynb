{
 "cells": [
  {
   "cell_type": "markdown",
   "metadata": {
    "collapsed": true
   },
   "source": [
    "## RNNを使った文章生成\n",
    "\n",
    "学習を行ったRNNを使って文章を生成する方法を見ていく。\n",
    "\n",
    "LSTMの推論は次のような構成だった\n",
    " \n",
    "<img src=\"lstm.png\">\n",
    "\n",
    "最終的な出力はそれぞれのワードの出現確率を表す。\n",
    "\n",
    "文章生成では、一番確率の高いものを取っていく方法（決定論的方法）と確率分布に従って取っていく方法（確率的方法）があるが、文章を生成するときには確率的方法の方が面白い結果になる。計算問題を解く場合などは決定論的方法を取る。\n",
    "\n",
    "そして、選ばれたワードを次の入力として推論をどんどん行っていく。予めワード数を決めておくか、＜eos＞のような特殊文字が出てきたところで終わる方法がある。"
   ]
  },
  {
   "cell_type": "code",
   "execution_count": 1,
   "metadata": {
    "collapsed": true
   },
   "outputs": [],
   "source": [
    "import sys\n",
    "sys.path.append(\"../../deep-learning-from-scratch-2\")\n",
    "from ch07.rnnlm_gen import BetterRnnlmGen\n",
    "from dataset import ptb"
   ]
  },
  {
   "cell_type": "code",
   "execution_count": 15,
   "metadata": {},
   "outputs": [],
   "source": [
    "corpus, word_to_id, id_to_word = ptb.load_data('train')\n",
    "vocab_size = len(word_to_id)\n",
    "corpus_size = len(corpus)\n",
    "\n",
    "model = BetterRnnlmGen()\n",
    "model.load_params('BetterRnnlm.pkl')\n",
    "start_word = \"paintings\"\n",
    "start_id = word_to_id[start_word]\n",
    "skip_words = ['N', '<unk>', '$']\n",
    "skip_ids = [word_to_id[w] for w in skip_words]"
   ]
  },
  {
   "cell_type": "code",
   "execution_count": 16,
   "metadata": {},
   "outputs": [
    {
     "name": "stdout",
     "output_type": "stream",
     "text": [
      "paintings at the end of the month.\n",
      " one of the transit events came in the and ted brooklyn harbors that such a minority campaign is worth more than their greenville note i 'm not recommending.\n",
      " he defended himself in this case in the gun.\n",
      " at the time yet the man the case expected to be nothing in the run of viewers that sports experts say throughout the spring.\n",
      " in due summer after the master of the banking members surfaced there were resistance and they would n't alter the role of the estate a private lawyers and\n"
     ]
    }
   ],
   "source": [
    "word_ids = model.generate(start_id, skip_ids)\n",
    "txt = ' '.join([id_to_word[i] for i in word_ids])\n",
    "txt = txt.replace(' <eos>', \".\\n\")\n",
    "print(txt)"
   ]
  },
  {
   "cell_type": "code",
   "execution_count": null,
   "metadata": {
    "collapsed": true
   },
   "outputs": [],
   "source": []
  }
 ],
 "metadata": {
  "kernelspec": {
   "display_name": "Python 3",
   "language": "python",
   "name": "python3"
  },
  "language_info": {
   "codemirror_mode": {
    "name": "ipython",
    "version": 3
   },
   "file_extension": ".py",
   "mimetype": "text/x-python",
   "name": "python",
   "nbconvert_exporter": "python",
   "pygments_lexer": "ipython3",
   "version": "3.6.1"
  }
 },
 "nbformat": 4,
 "nbformat_minor": 2
}
