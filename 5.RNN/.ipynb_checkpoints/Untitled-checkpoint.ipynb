{
 "cells": [
  {
   "cell_type": "markdown",
   "metadata": {
    "collapsed": true
   },
   "source": [
    "## RNNとは\n",
    "word2vecは単語の分散表現、すなわち単語の意味をベクトルで表現するために開発された手法だった。\n",
    "\n",
    "なのでword2vecは言語モデル（単語の並びに対して確率を与える。どれだけ起こりうる並びなのか）に使用されることはない。単語の並びに対して学習を行うには、任意の長さの単語の列に対してその並びを崩さないように学習を行分ければならない。\n",
    "\n",
    "word2vecでは入力単語それぞれに重みベクトルをかけて足し合わせた結果を中間層の入力としていた。これでは単語の前後の順番に対して学習できたない。足し合わせずに連結するという方法もあるが、それでは文章の並びをどこかで区切らなければならない。\n",
    "\n",
    "任意の長さの単語列に対して学習するために考案されたのがRNN（再帰ニューラルネットワーク）である。\n",
    "\n",
    "RNNでは、RNNレイヤの出力を次の単語の入力と一緒に入力する。つまり循環(Recurrent)構造になっている。\n",
    "\n",
    "前回出力に対する重みを$W_h$、時刻$t$の入力を$x_t$、入力に対する重みを$W_x$、バイアスを$b$と表記する。\n",
    "\n",
    "RNNの時刻$t$における出力$h_t$は次式で表される。\n",
    "$$\n",
    "h_t = \\tanh(h_{t-1}W_t + x_t W_x + b)\n",
    "$$\n",
    "\n",
    "$x_t$として文章の初めから単語を順番に入力していくことで、任意の長さの文章を順番の情報を損なわずに学習することができる。\n",
    "\n",
    "しかし、一方で長い時系列データの学習では、計算リソースの増加や、逆伝搬時の勾配が不安定になる問題もある。そのため逆伝搬時だけある長さでネットワークを切断し、小さなネットワークに対して誤差逆伝搬法を用いる方法がある。これをTruncated BPTT(Truncated Backpropagation Through Time)と言う。\n",
    "\n",
    "trucated BPTTでは逆伝搬時には切断するが、順伝搬時にはネットワークの切断は行わない。\n",
    "\n",
    "切断を行う単位でブロックに区切り、学習を行う。具体的には、RNNレイヤを切断単位数分まとめたTime RNNレイヤも作成する。\n",
    "\n",
    "RNNレイヤの入力がxだとすれば、それらを複数個まとめた配列をTimeRNNの入力とする。出力もRNNレイヤの出力の配列となる。\n",
    "\n"
   ]
  },
  {
   "cell_type": "code",
   "execution_count": 1,
   "metadata": {
    "collapsed": true
   },
   "outputs": [],
   "source": [
    "import numpy as np"
   ]
  },
  {
   "cell_type": "code",
   "execution_count": 2,
   "metadata": {
    "collapsed": true
   },
   "outputs": [],
   "source": [
    "class RNN:\n",
    "    def __init__(self, Wx, Wh, b):\n",
    "        self.params = [Wx, Wh, b]\n",
    "        self.grads = [np.zeros_like(wx), np.zeros_like(Wh), np.zeros_like(b)]\n",
    "        self.cache = None\n",
    "    \n",
    "    def forward(self, x, h_prev):\n",
    "        Wx, Wh, b = self.params\n",
    "        t = np.dot(h_prev, Wh) + np.dot(x, Wx) + b\n",
    "        h_next = np.tanh(t)\n",
    "        \n",
    "        self.cache = (x, h_prev, h_next)\n",
    "        return h_next\n",
    "    \n",
    "    def backward(self, dh_next):\n",
    "        Wx, Wh, b = self.params\n",
    "        x, h_prev, h_next = self.cache\n",
    "        \n",
    "        dt = dh_next + (1 - h_next ** 2)\n",
    "        db = np.sum(dt, axis=0)\n",
    "        dWh= np.dot(h_prev.T, dt)\n",
    "        dh_prev = np.dot(dt, Wh.T)\n",
    "        dWt = np.dot(x.T, dt)\n",
    "        dx = np.dot(dt, Wx.T)\n",
    "        \n",
    "        self.grads[0][...] = dWx\n",
    "        self.grads[1][...] = dWh\n",
    "        self.grads[2][...] = db\n",
    "        \n",
    "        return dx, dh_prev"
   ]
  },
  {
   "cell_type": "code",
   "execution_count": null,
   "metadata": {
    "collapsed": true
   },
   "outputs": [],
   "source": [
    "class TimeRNN:\n",
    "    def __init__(self, Wx, Wh, b, stateful=False):\n",
    "        self.params = [Wx, Wh, b]\n",
    "        self.grads = [np.zeros_like(wx), np.zeros_like(Wh), np.zeros_like(b)]\n",
    "        self.layers = None\n",
    "        \n",
    "        # 最後のRNNレイヤの出力\n",
    "        # 一つ前ブロックに渡す勾配\n",
    "        self.h, self.dh = None, None\n",
    "        \n",
    "        # trueの時順伝搬の繋がりを断ち切る（隠れ状態をゼロ行列で初期化）\n",
    "        # falseの時は順伝搬時に次のレイヤに出力を渡す\n",
    "        self.stateful = stateful\n",
    "    \n",
    "    def set_state(self, h):\n",
    "        self.h = h\n",
    "        \n",
    "    def reset_state(self):\n",
    "        self.h = None\n",
    "\n",
    "        "
   ]
  }
 ],
 "metadata": {
  "kernelspec": {
   "display_name": "Python 3",
   "language": "python",
   "name": "python3"
  },
  "language_info": {
   "codemirror_mode": {
    "name": "ipython",
    "version": 3
   },
   "file_extension": ".py",
   "mimetype": "text/x-python",
   "name": "python",
   "nbconvert_exporter": "python",
   "pygments_lexer": "ipython3",
   "version": "3.6.1"
  }
 },
 "nbformat": 4,
 "nbformat_minor": 2
}
