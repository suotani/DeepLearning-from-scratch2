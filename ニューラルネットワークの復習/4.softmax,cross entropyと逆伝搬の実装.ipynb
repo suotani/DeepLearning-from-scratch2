{
 "cells": [
  {
   "cell_type": "code",
   "execution_count": 1,
   "metadata": {
    "collapsed": true
   },
   "outputs": [],
   "source": [
    "import numpy as np"
   ]
  },
  {
   "cell_type": "markdown",
   "metadata": {},
   "source": [
    "### Softmax関数\n",
    "$$\n",
    "y_k = \\frac{\\exp(s_k)}{\\sum^{n}_{i=1}\\exp(s_i)}\n",
    "$$\n",
    "softmax関数の出力は0～1の範囲となり、全て足し合わせると１になるため、出力を確率へ変換する役割がある。\n",
    "学習フェーズでは次の交差エントロピー誤差関数への入力値となる。"
   ]
  },
  {
   "cell_type": "markdown",
   "metadata": {},
   "source": [
    "### 交差エントロピー誤差関数\n",
    "$$\n",
    "L = -\\sum_{k}t_k \\log y_k\n",
    "$$\n",
    "\n",
    "$y_k$はsoftmax関数の出力。$t_k$は教師ラベルでone-hotベクトルを想定している\n",
    "\n",
    "ミニバッチ処理を考慮したときの交差エントロピー誤差関数は次のように、誤差の平均を取る\n",
    "$$\n",
    "L = -\\frac{1}{N}\\sum_{n}\\sum_{k}t_k \\log y_k\n",
    "$$"
   ]
  },
  {
   "cell_type": "markdown",
   "metadata": {},
   "source": [
    "### Sigmoid関数の微分\n",
    "\n",
    "$$\n",
    "y = \\frac{1}{1+\\exp(-x)}\\\\\n",
    "\\frac{\\partial y}{\\partial x} = y(1 - y)\n",
    "$$\n",
    "\n",
    "この関係を用いて、sigmoidレイヤクラスにbackwardメソッドを実装する"
   ]
  },
  {
   "cell_type": "code",
   "execution_count": 2,
   "metadata": {
    "collapsed": true
   },
   "outputs": [],
   "source": [
    "class Sigmoid:\n",
    "    def __init__(self):\n",
    "        self.params, self.grads = [], []\n",
    "        self.out = None\n",
    "    \n",
    "    def forward(self, x):\n",
    "        out = 1 / (1 + np.exp(-x))\n",
    "        self.out = out\n",
    "        return out\n",
    "    \n",
    "    def backward(self, dout):\n",
    "        dx = dout * (1.0 - self.out) * self.out\n",
    "        return dx"
   ]
  },
  {
   "cell_type": "markdown",
   "metadata": {},
   "source": [
    "### Affineレイヤクラスのbackward\n",
    "affineレイヤでは、$y = xW+b$の計算が行われている\n",
    "それぞれ、パラメータで微分する\n",
    "$$\n",
    "\\frac{\\partial L}{\\partial x} = \\frac{\\partial L}{\\partial y}W^{T}\\\\\n",
    "\\frac{\\partial L}{\\partial W} = x^{T}\\frac{\\partial L}{\\partial y}\\\\\n",
    "\\frac{\\partial L}{\\partial b} = \\frac{\\partial L}{\\partial y}\n",
    "$$\n",
    "$\\frac{\\partial L}{\\partial x}$は、$x$の変化が損失$L$にどれくらい影響しているかを表している。\n",
    "これらを用いて、Affineレイヤクラスにbackwardメソッドを実装する"
   ]
  },
  {
   "cell_type": "code",
   "execution_count": 3,
   "metadata": {
    "collapsed": true
   },
   "outputs": [],
   "source": [
    "class Affine:\n",
    "    def __init__(self, W, b):\n",
    "        self.params = [W, b]\n",
    "        self.grads = [np.zeros_like(W), np.zeros_like(b)]\n",
    "        self.x = None\n",
    "    \n",
    "    def forward(self, x):\n",
    "        W, b = self.params\n",
    "        out = np.dot(x, W) + b\n",
    "        self.x = x\n",
    "        return out\n",
    "    \n",
    "    def backward(self, dout):\n",
    "        W, b = self.params\n",
    "        dx = np.dot(x, W) + b\n",
    "        dW = np.dot(self.x.T, dout)\n",
    "        db = np.sum(dout, axis=0) #bはforwardでブロードキャストしているので逆伝搬の場合は合計する\n",
    "        \n",
    "        self.grads[0][...] = dW\n",
    "        self.grads[1][...] = db\n",
    "        return dx"
   ]
  },
  {
   "cell_type": "code",
   "execution_count": null,
   "metadata": {
    "collapsed": true
   },
   "outputs": [],
   "source": []
  }
 ],
 "metadata": {
  "kernelspec": {
   "display_name": "Python 3",
   "language": "python",
   "name": "python3"
  },
  "language_info": {
   "codemirror_mode": {
    "name": "ipython",
    "version": 3
   },
   "file_extension": ".py",
   "mimetype": "text/x-python",
   "name": "python",
   "nbconvert_exporter": "python",
   "pygments_lexer": "ipython3",
   "version": "3.6.1"
  }
 },
 "nbformat": 4,
 "nbformat_minor": 2
}
