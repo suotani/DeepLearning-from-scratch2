{
 "cells": [
  {
   "cell_type": "code",
   "execution_count": 1,
   "metadata": {
    "collapsed": true
   },
   "outputs": [],
   "source": [
    "import numpy as np"
   ]
  },
  {
   "cell_type": "code",
   "execution_count": 3,
   "metadata": {},
   "outputs": [],
   "source": [
    "W1 = np.random.randn(2,4)\n",
    "b1 = np.random.randn(4)\n",
    "x = np.random.randn(10,2)"
   ]
  },
  {
   "cell_type": "code",
   "execution_count": 4,
   "metadata": {},
   "outputs": [
    {
     "data": {
      "text/plain": [
       "array([[ 2.0825978 , -0.62042546,  1.4558564 ,  1.54235323],\n",
       "       [-0.74646303, -0.23573156, -0.45256406,  0.45725278]])"
      ]
     },
     "execution_count": 4,
     "metadata": {},
     "output_type": "execute_result"
    }
   ],
   "source": [
    "W1"
   ]
  },
  {
   "cell_type": "code",
   "execution_count": 5,
   "metadata": {},
   "outputs": [
    {
     "data": {
      "text/plain": [
       "array([-1.53650531,  0.95603711, -0.37519811,  0.14231588])"
      ]
     },
     "execution_count": 5,
     "metadata": {},
     "output_type": "execute_result"
    }
   ],
   "source": [
    "b1"
   ]
  },
  {
   "cell_type": "code",
   "execution_count": 6,
   "metadata": {},
   "outputs": [
    {
     "data": {
      "text/plain": [
       "array([[-0.41878907, -0.58840525],\n",
       "       [-0.35753266, -0.51735906],\n",
       "       [-0.34390014,  0.22535001],\n",
       "       [ 0.37248978, -0.32499516],\n",
       "       [-0.3493755 ,  1.72254923],\n",
       "       [-2.28979718,  0.939653  ],\n",
       "       [-0.8681516 , -1.04276518],\n",
       "       [-0.07301535, -0.60565397],\n",
       "       [ 0.56743409,  0.84431652],\n",
       "       [-2.09959454, -1.66644636]])"
      ]
     },
     "execution_count": 6,
     "metadata": {},
     "output_type": "execute_result"
    }
   ],
   "source": [
    "x"
   ]
  },
  {
   "cell_type": "code",
   "execution_count": 7,
   "metadata": {},
   "outputs": [
    {
     "data": {
      "text/plain": [
       "array([[-1.96945174,  1.35457021, -0.71860379, -0.77265473],\n",
       "       [-1.89491262,  1.29981734, -0.6615762 , -0.64568964],\n",
       "       [-2.42092644,  1.11627941, -0.97785264, -0.2850577 ],\n",
       "       [-0.51816203,  0.80154659,  0.31417465,  0.56822176],\n",
       "       [-3.54993328,  0.76673935, -1.66340253,  0.39109588],\n",
       "       [-7.00664811,  2.15517971, -4.13406715, -2.95970124],\n",
       "       [-2.56613026,  1.74047314, -1.16718413, -1.67348782],\n",
       "       [-1.23646862,  1.14410946, -0.20740076, -0.24723655],\n",
       "       [-0.98501938,  0.4049545 ,  0.06879714,  1.40356577],\n",
       "       [-4.66517568,  2.65151303, -2.67773252, -3.85798776]])"
      ]
     },
     "execution_count": 7,
     "metadata": {},
     "output_type": "execute_result"
    }
   ],
   "source": [
    "h = np.dot(x, W1) + b1\n",
    "h"
   ]
  },
  {
   "cell_type": "code",
   "execution_count": 8,
   "metadata": {},
   "outputs": [
    {
     "data": {
      "text/plain": [
       "(10, 4)"
      ]
     },
     "execution_count": 8,
     "metadata": {},
     "output_type": "execute_result"
    }
   ],
   "source": [
    "h.shape"
   ]
  },
  {
   "cell_type": "code",
   "execution_count": 9,
   "metadata": {
    "collapsed": true
   },
   "outputs": [],
   "source": [
    "def sigmoid(x):\n",
    "    return 1 / (1 + np.exp(-1))"
   ]
  },
  {
   "cell_type": "code",
   "execution_count": 10,
   "metadata": {},
   "outputs": [
    {
     "data": {
      "text/plain": [
       "0.7310585786300049"
      ]
     },
     "execution_count": 10,
     "metadata": {},
     "output_type": "execute_result"
    }
   ],
   "source": [
    "sigmoid(5)"
   ]
  },
  {
   "cell_type": "markdown",
   "metadata": {},
   "source": [
    "## 3,4,3層のニューラルネットワークを実装"
   ]
  },
  {
   "cell_type": "code",
   "execution_count": 11,
   "metadata": {
    "collapsed": true
   },
   "outputs": [],
   "source": [
    "x = np.random.randn(10,2)\n",
    "W1 = np.random.randn(2,4)\n",
    "b1 = np.random.randn(4)\n",
    "W2 = np.random.randn(4,3)\n",
    "b2 = np.random.randn(3)"
   ]
  },
  {
   "cell_type": "code",
   "execution_count": 12,
   "metadata": {},
   "outputs": [
    {
     "data": {
      "text/plain": [
       "array([[-0.02079374,  0.20775231,  1.79028731],\n",
       "       [ 1.02966995, -0.46862722, -0.21248356],\n",
       "       [-0.87853246, -0.69687926,  0.52122158],\n",
       "       [-0.30122314, -0.30286014,  0.45273797]])"
      ]
     },
     "execution_count": 12,
     "metadata": {},
     "output_type": "execute_result"
    }
   ],
   "source": [
    "# 全結合層\n",
    "h = np.dot(x, W1) + b1\n",
    "# 活性化層\n",
    "a = sigmoid(h)\n",
    "# 全結合層\n",
    "s = np.dot(a, W2) + b2\n",
    "s"
   ]
  },
  {
   "cell_type": "code",
   "execution_count": null,
   "metadata": {
    "collapsed": true
   },
   "outputs": [],
   "source": []
  }
 ],
 "metadata": {
  "kernelspec": {
   "display_name": "Python 3",
   "language": "python",
   "name": "python3"
  },
  "language_info": {
   "codemirror_mode": {
    "name": "ipython",
    "version": 3
   },
   "file_extension": ".py",
   "mimetype": "text/x-python",
   "name": "python",
   "nbconvert_exporter": "python",
   "pygments_lexer": "ipython3",
   "version": "3.6.1"
  }
 },
 "nbformat": 4,
 "nbformat_minor": 2
}
