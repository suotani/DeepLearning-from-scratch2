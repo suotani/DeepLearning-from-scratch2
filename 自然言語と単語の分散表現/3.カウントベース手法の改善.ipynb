{
 "cells": [
  {
   "cell_type": "markdown",
   "metadata": {},
   "source": [
    "## 相互情報量\n",
    "単語carに対しては、明らかにdriveなどの単語が深く関係している。しかし、単純なカウントベースの共起行列ではtheのような頻出単語が深く関連してしまう。この問題点を解決するために、相互情報量PMI(Pointwise Mutual Information)という指標を導入する。PMIは次式て定義される\n",
    "\n",
    "$$\n",
    "PMI(x, y) = \\log_{2}\\frac{P(x, y)}{P(x)P(y)}\n",
    "$$\n",
    "\n",
    "$P(x)$はxがコーパスの中で出現した回数。$P(x,y)$は共起した回数、つまりそれぞれが近くで観測された回数。\n",
    "\n",
    "コーパス中の単語数を$N$、共起行列を$C(x,y)$、コーパス中に出現する単語$x$の出現回数を$C(x)$とすると、\n",
    "\n",
    "$$\n",
    "PMI(x,y) = \\log_{2}\\frac{C(x, y)N}{C(x)C(y)}\n",
    "$$\n",
    "\n",
    "となる。\n",
    "\n",
    "では、一度も共起しない単語同士のPMIはどうなるかと言うと、負の無限大へ発散してしまう。そのため、実際には正の相互情報量PPMI(Positive PMI)を用いる\n",
    "\n",
    "$$\n",
    "PPMI(x, y) = \\max(0, PMI(x, y))\n",
    "$$"
   ]
  },
  {
   "cell_type": "code",
   "execution_count": 12,
   "metadata": {
    "collapsed": true
   },
   "outputs": [],
   "source": [
    "import numpy as np\n",
    "\n",
    "# verboseは進捗を表示するかどうか\n",
    "def ppmi(C, verbose=False, eps=1e-8):\n",
    "    M = np.zeros_like(C,dtype=np.float32)\n",
    "    N = np.sum(C)\n",
    "    S = np.sum(C, axis=0)\n",
    "    total = C.shape[0] * C.shape[1]\n",
    "    cnt = 0\n",
    "    \n",
    "    for i in range(C.shape[0]):\n",
    "        for j in range(C.shape[1]):\n",
    "            pmi = np.log2(C[i, j] * N / (S[j] * S[i]) + eps)\n",
    "            M[i, j] = max(0, pmi)\n",
    "            \n",
    "            if verbose:\n",
    "                cnt += 1\n",
    "                if cnt % (total//100) == 0:\n",
    "                    print('%.1f%% done' % (100*cnt/total))\n",
    "    \n",
    "    return M"
   ]
  },
  {
   "cell_type": "code",
   "execution_count": 13,
   "metadata": {
    "collapsed": true
   },
   "outputs": [],
   "source": [
    "import sys\n",
    "sys.path.append(\"../../deep-learning-from-scratch-2\")"
   ]
  },
  {
   "cell_type": "code",
   "execution_count": 14,
   "metadata": {
    "collapsed": true
   },
   "outputs": [],
   "source": [
    "from common.util import preprocess, create_co_matrix, cos_similarity"
   ]
  },
  {
   "cell_type": "code",
   "execution_count": 66,
   "metadata": {},
   "outputs": [],
   "source": [
    "text = \"you say goodbye and i say hello. becouse i feel sad and happy.\"\n",
    "corpus, word_to_id, id_to_word = preprocess(text)\n",
    "vocab_size = len(word_to_id)\n",
    "C = create_co_matrix(corpus, vocab_size)\n",
    "W = ppmi(C)"
   ]
  },
  {
   "cell_type": "code",
   "execution_count": 67,
   "metadata": {},
   "outputs": [
    {
     "name": "stdout",
     "output_type": "stream",
     "text": [
      "covariance matrix\n",
      "[[0 1 0 0 0 0 0 0 0 0 0]\n",
      " [1 0 1 0 1 1 0 0 0 0 0]\n",
      " [0 1 0 1 0 0 0 0 0 0 0]\n",
      " [0 0 1 0 1 0 0 0 0 1 1]\n",
      " [0 1 0 1 0 0 0 1 1 0 0]\n",
      " [0 1 0 0 0 0 1 0 0 0 0]\n",
      " [0 0 0 0 0 1 0 1 0 0 1]\n",
      " [0 0 0 0 1 0 1 0 0 0 0]\n",
      " [0 0 0 0 1 0 0 0 0 1 0]\n",
      " [0 0 0 1 0 0 0 0 1 0 0]\n",
      " [0 0 0 1 0 0 1 0 0 0 0]]\n",
      "--------------------------------------------------\n",
      "PPMI\n",
      "[[ 0.     2.807  0.     0.     0.     0.     0.     0.     0.     0.     0.   ]\n",
      " [ 2.807  0.     1.807  0.     0.807  1.807  0.     0.     0.     0.     0.   ]\n",
      " [ 0.     1.807  0.     1.807  0.     0.     0.     0.     0.     0.     0.   ]\n",
      " [ 0.     0.     1.807  0.     0.807  0.     0.     0.     0.     1.807\n",
      "   1.807]\n",
      " [ 0.     0.807  0.     0.807  0.     0.     0.     1.807  1.807  0.     0.   ]\n",
      " [ 0.     1.807  0.     0.     0.     0.     2.222  0.     0.     0.     0.   ]\n",
      " [ 0.     0.     0.     0.     0.     2.222  0.     2.222  0.     0.     2.222]\n",
      " [ 0.     0.     0.     0.     1.807  0.     2.222  0.     0.     0.     0.   ]\n",
      " [ 0.     0.     0.     0.     1.807  0.     0.     0.     0.     2.807  0.   ]\n",
      " [ 0.     0.     0.     1.807  0.     0.     0.     0.     2.807  0.     0.   ]\n",
      " [ 0.     0.     0.     1.807  0.     0.     2.222  0.     0.     0.     0.   ]]\n"
     ]
    }
   ],
   "source": [
    "np.set_printoptions(precision=3)\n",
    "print(\"covariance matrix\")\n",
    "print(C)\n",
    "print(\"-\"*50)\n",
    "print(\"PPMI\")\n",
    "print(W)"
   ]
  },
  {
   "cell_type": "markdown",
   "metadata": {},
   "source": [
    "## 次元削減\n",
    "単純な共起行列に単語自体の出現回数を加味した指数pmiを導入し、よりより行列を手に入れた。\n",
    "\n",
    "しかし、このままでは単語が増えるにつれて次元がどんどん大きくなっていく。そこで次に次元を削減していく。\n",
    "\n",
    "例えば、PPMIの行列には0が多く、無駄なデータ(疎なベクトル)が多い。そこで、新たに座標軸を導入し、少ない次元で元のデータをよく表現できるようにする。具体的には、特異値分解(singular Value Decomposition: SVD)を使う。SVDは任意の行列を次のように４つの行列の席へと分解する\n",
    "\n",
    "$$\n",
    "X = USV^{T}\n",
    "$$\n",
    "\n",
    "$U,V$は直交行列、$S$は対角行列\n",
    "\n",
    "$U$は直交行列であるから、その列ベクトルは互いに直交する。すなわち、何らかの直交基底になっている。そこで、この$U$を単語空間として扱う。また、$S$は対角行列であり、特異値が大きい順に並んでいる。今の文脈では、対応する軸の重要度と考えることも出来る。\n",
    "\n",
    "そこで、アイデアとしてはPPMI行列を$X$とし、SVDを行い、対角行列$S$からいくつかの特異値を選び、次元を削減する。特異値を選択すると、対応する直交行列$U$から軸を選択することになる。\n",
    "\n",
    "実装上はlinalgモジュールにsvdというメソッドが用意されてるのでそれを使う"
   ]
  },
  {
   "cell_type": "code",
   "execution_count": 68,
   "metadata": {
    "collapsed": true
   },
   "outputs": [],
   "source": [
    "U, S, V = np.linalg.svd(W)"
   ]
  },
  {
   "cell_type": "code",
   "execution_count": 92,
   "metadata": {},
   "outputs": [
    {
     "data": {
      "text/plain": [
       "array([[  1.164e-08,   2.807e+00,  -9.313e-09,   6.519e-09,  -4.284e-08,\n",
       "          1.676e-08,  -8.103e-08,  -4.284e-08,  -2.701e-08,   4.284e-08,\n",
       "         -5.355e-09],\n",
       "       [  2.807e+00,  -2.311e-08,   1.807e+00,  -2.468e-08,   8.074e-01,\n",
       "          1.807e+00,  -8.778e-08,  -8.661e-08,  -1.863e-09,  -3.679e-08,\n",
       "         -8.621e-08],\n",
       "       [ -5.588e-09,   1.807e+00,   6.706e-08,   1.807e+00,  -1.490e-08,\n",
       "          2.980e-08,  -7.451e-08,  -4.470e-08,  -6.706e-08,   5.960e-08,\n",
       "          2.328e-08],\n",
       "       [  1.397e-08,  -1.146e-07,   1.807e+00,   3.353e-08,   8.074e-01,\n",
       "          2.980e-08,  -1.490e-08,  -3.725e-08,   1.118e-08,   1.807e+00,\n",
       "          1.807e+00],\n",
       "       [ -5.029e-08,   8.074e-01,   1.490e-08,   8.074e-01,  -7.451e-08,\n",
       "         -7.059e-33,  -5.960e-08,   1.807e+00,   1.807e+00,   8.941e-08,\n",
       "         -6.333e-08],\n",
       "       [  5.588e-09,   1.807e+00,   4.470e-08,   2.980e-08,  -5.960e-08,\n",
       "         -5.626e-17,   2.222e+00,  -2.980e-08,   3.725e-08,  -1.490e-08,\n",
       "          1.676e-08],\n",
       "       [ -8.009e-08,  -1.471e-07,  -1.490e-08,  -1.490e-08,  -5.215e-08,\n",
       "          2.222e+00,   4.843e-08,   2.222e+00,  -5.588e-08,   7.451e-08,\n",
       "          2.222e+00],\n",
       "       [ -6.706e-08,  -8.382e-08,  -4.470e-08,  -2.980e-08,   1.807e+00,\n",
       "         -1.490e-08,   2.222e+00,  -7.451e-08,   6.706e-08,  -5.960e-08,\n",
       "         -1.863e-08],\n",
       "       [ -1.956e-08,  -4.750e-08,  -2.235e-08,   1.490e-08,   1.807e+00,\n",
       "          3.725e-08,   0.000e+00,  -7.451e-09,   2.608e-07,   2.807e+00,\n",
       "         -5.029e-08],\n",
       "       [ -1.676e-08,   7.544e-08,  -7.451e-09,   1.807e+00,   4.470e-08,\n",
       "         -1.490e-08,   5.215e-08,  -1.043e-07,   2.807e+00,  -1.490e-08,\n",
       "         -5.588e-09],\n",
       "       [ -6.496e-08,   1.020e-07,  -1.490e-08,   1.807e+00,  -4.843e-08,\n",
       "         -2.049e-08,   2.222e+00,  -6.147e-08,   4.005e-08,  -3.539e-08,\n",
       "          4.983e-08]], dtype=float32)"
      ]
     },
     "execution_count": 92,
     "metadata": {},
     "output_type": "execute_result"
    }
   ],
   "source": [
    "np.dot(U, np.dot(np.diag(S), V))"
   ]
  },
  {
   "cell_type": "code",
   "execution_count": 93,
   "metadata": {
    "collapsed": true
   },
   "outputs": [],
   "source": [
    "import matplotlib.pyplot as plt"
   ]
  },
  {
   "cell_type": "code",
   "execution_count": 95,
   "metadata": {},
   "outputs": [
    {
     "data": {
      "image/png": "[encoded data removed]",
      "text/plain": [
       "<matplotlib.figure.Figure at 0x2037bd629b0>"
      ]
     },
     "metadata": {},
     "output_type": "display_data"
    }
   ],
   "source": [
    "for word, word_id in word_to_id.items():\n",
    "    plt.annotate(word, (U[word_id, 0], U[word_id, 1]))\n",
    "\n",
    "plt.scatter(U[:,0], U[:,1],alpha=0.5)\n",
    "plt.show()    "
   ]
  },
  {
   "cell_type": "code",
   "execution_count": null,
   "metadata": {
    "collapsed": true
   },
   "outputs": [],
   "source": []
  }
 ],
 "metadata": {
  "kernelspec": {
   "display_name": "Python 3",
   "language": "python",
   "name": "python3"
  },
  "language_info": {
   "codemirror_mode": {
    "name": "ipython",
    "version": 3
   },
   "file_extension": ".py",
   "mimetype": "text/x-python",
   "name": "python",
   "nbconvert_exporter": "python",
   "pygments_lexer": "ipython3",
   "version": "3.6.1"
  }
 },
 "nbformat": 4,
 "nbformat_minor": 2
}
